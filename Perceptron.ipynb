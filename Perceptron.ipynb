{
 "cells": [
  {
   "cell_type": "markdown",
   "source": [
    "<div dir=\"rtl\">\n",
    "\n",
    "# گزارش ۱\n",
    "# آریان فتحی\n",
    "# 40013023\n",
    "---\n",
    "</div>\n",
    "<div dir=\"rtl\">\n",
    "<font size=\"4\"></font>\n",
    "موضوع پروژه، پیاده سازی شبکه عصبی پرسپترون و نحوه اپدیت و یادگیری آن میباشد.\n",
    "میدانیم که شبکه عصبی پرسپترون ساده ترین نوع شبکه عصبی بوده و فقط برای دیتاست هایی کاربرد دارد که خطی جدایی پذیر باشند، یعنی بتوان ابرصفحه ای پیدا کرد که دیتاهای درحال بررسی را در دو زیرفضای مجزا قرار دهد.\n",
    "در این پروژه برآن شدیم تا شبکه عصبی پرسپترون و الگوریتم یادگیری آن را پیاده سازی کنیم، در ادامه نیز فرمول های بدست آمده را پیاده سازی و سپس به توضیح باقی پروژه میپردازیم.\n",
    "</div>\n",
    "<br/>\n",
    "\n",
    "---\n",
    "<br/>\n",
    "<div dir=\"rtl\">\n",
    "<font size=\"3\"><font/>\n",
    "در ابتدا کتابخانه هایی که به آنها برای راه اندازی پروژه نیاز داریم را ایمپورت میکنیم، این کتابخانه ها عبارت هستند از numpy که برای محاسبات برداری و ماتریسی بسیار مناسب هستند، matplotlib برای نمایش دیتاست هاو در آخر  sklearn.dataset که برای تولید دیتاست مصنوعی جهت تست کردن پرسپترون مورد نظر استفاده میشود\n",
    "\n",
    "\n",
    "</div>\n"
   ],
   "metadata": {
    "collapsed": false
   }
  },
  {
   "cell_type": "code",
   "execution_count": 3,
   "metadata": {
    "collapsed": true
   },
   "outputs": [],
   "source": [
    "import numpy as np\n",
    "import matplotlib.pyplot as plt\n",
    "from sklearn.datasets import make_blobs"
   ]
  },
  {
   "cell_type": "markdown",
   "source": [
    "<div dir=\"rtl\">\n",
    "<font size=\"3\"><font/>\n",
    "حال با استفاده از make_blobs دیتاستی که مایل هستیم جهت تست و آزمایش شبکه پرسپترون خود بکار ببریم، تولید میکنیم، در این نمونه ۲۴۰ رکورد که هر رکورد ۲ فیچر داشته را در نظر میگیریم که خطی جدایی پذیر نیز هستند، X بردار فیچر ها بوده و y لیبل را مشخص میکند.\n",
    "برای راحتی محاسبات ترانهاده X را در ادامه بکار گرفته و زمانی که خواستیم دیتاست بدست امده رو تست کنیم، دوباره از آن ترانهاده گرفته تا قابل رسم باشد.\n",
    "و در آخر نیز لیبل های ۰ را با -۱ جایگذاری میکنیم، فرض این است که شبکه عصبی ما یا خروجی +۱ میدهد یا -۱\n",
    "</div>"
   ],
   "metadata": {
    "collapsed": false
   }
  },
  {
   "cell_type": "code",
   "execution_count": 5,
   "outputs": [
    {
     "data": {
      "text/plain": "<Figure size 640x480 with 1 Axes>",
      "image/png": "[encoded data removed]"
     },
     "metadata": {},
     "output_type": "display_data"
    }
   ],
   "source": [
    "X, y = make_blobs(n_samples=240, centers=2, n_features=2, random_state=42)\n",
    "plt.plot(X[:, 0][y == 0], X[:, 1][y == 0], 'g^')\n",
    "plt.plot(X[:, 0][y == 1], X[:, 1][y == 1], 'bs')\n",
    "plt.show()\n",
    "# taking transpose X for easier calculation\n",
    "X = X.T\n",
    "y[y == 0] = -1"
   ],
   "metadata": {
    "collapsed": false
   }
  },
  {
   "cell_type": "markdown",
   "source": [
    "<br/>\n",
    "<div dir=\"rtl\">\n",
    "<font size=\"3\"><font/>\n",
    "ابتدا کلاس F  را برای پیاده سازی توابع استاتیکی که در محاسبات ما نقش بسزایی اعمال میکنند تعریف میکنیم، در پروژه پرسپترون فقط تابع sign که در نقش یک تابع فعالساز میباشد، پیاده سازی میشود و وظیفه آن برگرداندن مقدار خروجی +۱ برای مقادیر نامنفی و -۱ برای مقادیر منفی میباشد\n",
    "</div>\n",
    "<br/>"
   ],
   "metadata": {
    "collapsed": false
   }
  },
  {
   "cell_type": "markdown",
   "source": [],
   "metadata": {
    "collapsed": false
   }
  },
  {
   "cell_type": "code",
   "execution_count": 6,
   "outputs": [],
   "source": [
    "class F:\n",
    "    @staticmethod\n",
    "    def sign(x):\n",
    "        if x >= 0:\n",
    "            return 1\n",
    "        else:\n",
    "            return -1"
   ],
   "metadata": {
    "collapsed": false
   }
  },
  {
   "cell_type": "markdown",
   "source": [
    "<div dir=\"rtl\">\n",
    "<font size=\"3\"><font/>\n",
    "در نهایت به پیاده سازی کلاس پرسپترون میرسیم که وظیفه آن نگهداری وزن ها و بایاس، و محاسبه کردن مقدار خروجی با استفاده از این وزن ها و بایاس به ازای n ویژگی که به عنوان ورودی دریافت شده است، میباشد.\n",
    "این کلاس از دوتابع ساده که اولین تابع در نقش کانستراکتور میباشد و دومی در نقش forwarding مقادیر ورودی و محاسبه مقدار خروجی میباشد.\n",
    "در تابع کاسنتراکتور که در زبان پایتون به اسم __init__ دیده میشود، به سایز بردار فیچرها، n + 1 مقدار رندوم به وزن ها و بایاس اختصاص میدهد.\n",
    "<br>\n",
    "در تابع forward نیز، تنها ضرب بردار وزن ها و بردار دیتاست و در نهایت جمع بردار حاصل شده با بردار بایاس محاسبه میشود،\n",
    "در اصل تابع forward طوری پیاده سازی شده است که مقدار خروجی را برای تمامی دیتاپوینت های موجود در دیتاست مورد نظر محاسبه کند، یعنی خروجی این تابع، یک بردار ۱ در n بوده که مقدار خروجی را برای هر n دیتاپوینت محاسبه کرده و درنهایت برمیگرداند.\n",
    "\n",
    "در اصل در بردار دیتاست ما، تعداد سطر ها، نمایانگر سایز فیچر ها، و تعداد ستون ها، تعداد دیتاپوینت ها یا رکورد هارا نشان میدهد.\n",
    "</div>"
   ],
   "metadata": {
    "collapsed": false
   }
  },
  {
   "cell_type": "code",
   "execution_count": 7,
   "outputs": [],
   "source": [
    "class Perceptron:\n",
    "    def __init__(self, input_size = 1):\n",
    "        self.W = np.random.rand(1, input_size)[0]\n",
    "        self.b = np.random.uniform(0, 3)\n",
    "    def forward(self, input):\n",
    "        bias = np.full((1 ,input.shape[1]), self.b)\n",
    "        return np.matmul(self.W, input) + bias\n"
   ],
   "metadata": {
    "collapsed": false
   }
  },
  {
   "cell_type": "markdown",
   "source": [
    "<div dir=\"rtl\">\n",
    "<font size=\"3\"><font/>\n",
    "در نهایت به کلاس Optimizer میرسیم که وظیفه آن اجرای الگوریتم یادگیری پرسپترون میباشد، میدانیم که اگر یک دیتاست خطی جدایی پذیر باشد، الگوریتم یادگیری پرسپترون پس از تعداد متناهی اجرا، به ۰ همگرا میشود.\n",
    "<br>\n",
    "در این کلاس نیز دوتابع داریم که تابع اول یا کانستراکتور به عنوان ورودی مدل پرسپترون را دریافت میکند، به عبارتی دیگر، کلاس optimizer به کلاس Perceptron دسترسی دارد و میتواند وزن ها و بایاس آن را تغییر دهد.\n",
    "در تابع update نیز تنها فرمول هایی که برای آپدیت کردن وزن ها و بایاس بر اساس لیبل هایی که اشتباه پیشبینی شده، پیاده سازی شده اند.\n",
    "طبق روابطی که از قبل میدانیم و اثبات کردیم، مقداری که با بایاس و وزن ها جمع میشود، همواره ابرصفحه موردنظر را در راستای بهبود حرکت میدهد.\n",
    "این تابع تنها یک دیتاپوینت را به عنوان ورودی دریافت میکند.\n",
    "</div>"
   ],
   "metadata": {
    "collapsed": false
   }
  },
  {
   "cell_type": "code",
   "execution_count": 8,
   "outputs": [],
   "source": [
    "class Optimizer:\n",
    "    def __init__(self, model):\n",
    "        self.model = model\n",
    "    def update(self, x, y, y_hat):\n",
    "        if y_hat != y:\n",
    "            self.model.b += y - y_hat\n",
    "            self.model.W += (y - y_hat) * x\n",
    "            return"
   ],
   "metadata": {
    "collapsed": false
   }
  },
  {
   "cell_type": "markdown",
   "source": [
    "<div dir=\"rtl\">\n",
    "<font size=\"3\"><font/>\n",
    "در این بخش، تنها دو instance از Perceptron و Optimizer گرفته شده است، که به ترتیب با اسامی ‌ p و optimizer تعریف شده اند.\n",
    "</div>"
   ],
   "metadata": {
    "collapsed": false
   }
  },
  {
   "cell_type": "code",
   "execution_count": 9,
   "outputs": [],
   "source": [
    "p = Perceptron(X.shape[0])\n",
    "optimizer = Optimizer(p)"
   ],
   "metadata": {
    "collapsed": false
   }
  },
  {
   "cell_type": "markdown",
   "source": [
    "<div dir=\"rtl\">\n",
    "<font size=\"3\"><font/>\n",
    "در این بخش نیز، ابتدا یک هایپرپارامتر به عنوان تعداد iteration هایی که برای آپدیت کردن ابرصفحه درنظر گرفته شده است،  را تعریف کرده و به آن مقدار دلخواه ۱۰۰۰ را میدهیم.\n",
    "سپس خروجی مدل اولیه را برای تمامی دیتاپوینت ها بدست اورده و درنهایت قبل از وارد شدن به هر فرایند اپدیت شدن، مقدار اولیه وزن ها و بایاس را چاپ میکنیم.\n",
    "در نهایت با استفاده از یک حلقه تو در تو، شروع به اپدیت کردن وزن ها و بایاس میکنیم، به این صورت که خروجی مدل را ابا استفاده از تابع فعالساز که با نام sign پیاده سازی شده بود بدست اورده و سپس دیتاپوینت مربوطه را برای چک کردن و اپدیت کردن به عنوان ورودی به متد update میدهیم.<br>\n",
    "در اصل متد اپدیت، سه ورودی دریافت کرده که شامل: دیتاپوینت، لیبل واقعی و  لیبل پیشبینی شده میباشند و بر اساس این سه ورودی و الگوریتم یادگیری پرسپترون، وزن ها و بایاس را اپدیت میکند.\n",
    "<br>\n",
    "در اخر نیز، دوباره مقادیر وزن ها و بایاس چاپ میشوند.\n",
    "</div>"
   ],
   "metadata": {
    "collapsed": false
   }
  },
  {
   "cell_type": "code",
   "execution_count": 38,
   "outputs": [
    {
     "name": "stdout",
     "output_type": "stream",
     "text": [
      "[ 1712860.14219035 -1490617.40991244]\n",
      "20002.83916828211\n",
      "[ 1712860.14219035 -1490617.40991244]\n",
      "20002.83916828211\n"
     ]
    }
   ],
   "source": [
    "n_iter = 1000\n",
    "res = optimizer.model.forward(X)\n",
    "res = res[0]\n",
    "print(optimizer.model.W)\n",
    "print(optimizer.model.b)\n",
    "for _ in range(n_iter):\n",
    "    for i in range(X.shape[1]):\n",
    "        y_hat = F.sign(res[i])\n",
    "        optimizer.update(X[:, i], y[i], y_hat)\n",
    "print(optimizer.model.W)\n",
    "print(optimizer.model.b)"
   ],
   "metadata": {
    "collapsed": false
   }
  },
  {
   "cell_type": "markdown",
   "source": [
    "<div dir=\"rtl\">\n",
    "<font size=\"3\"><font/>\n",
    "در این بخش نیز تعداد لیبل هایی که اشتباه پیشبینی شده اند، شمرده میشوند، اگر همچنان دیتاپوینتی اشتباه پیشبینی شده بود به بخش قبلی میرویم و در صورت لزوم یادگیری را تکرار میکنیم، انقد این فرایند را انجام میدهیم تا تعداد لیبل های اشتباه به صفر برسد\n",
    "<br>\n",
    "توجه داشته باشید که برای بهتر شدن کیفیت کار میتوانستیم با تعریف کردن چندین تابع، از تکرار اجرای این دوبخش مختلف جلوگیری کنیم ولی دراینجا ما استفاده از یک هایپر پارامتر را ترجیح دادیم\n",
    "</div>"
   ],
   "metadata": {
    "collapsed": false
   }
  },
  {
   "cell_type": "code",
   "execution_count": 39,
   "outputs": [
    {
     "name": "stdout",
     "output_type": "stream",
     "text": [
      "0\n"
     ]
    }
   ],
   "source": [
    "miss = 0\n",
    "for i in range(X.shape[1]):\n",
    "    y_hat = F.sign(res[i])\n",
    "    if y_hat != y[i]:\n",
    "        miss += 1\n",
    "print(miss)"
   ],
   "metadata": {
    "collapsed": false
   }
  },
  {
   "cell_type": "markdown",
   "source": [
    "<div dir=\"rtl\">\n",
    "<font size=\"3\"><font/>\n",
    "درنهایت نیز، از ماتریس X که همان دیتاست ماست،‌ترانهاده گرفته تا بتوانیم در بخش بعدی، نسخه دوبعدی آن را پرینت بگیریم و چک کنیم که ایا چگونه دیتاست مارا افراز کرده است.\n",
    "</div>"
   ],
   "metadata": {
    "collapsed": false
   }
  },
  {
   "cell_type": "code",
   "execution_count": 40,
   "outputs": [
    {
     "data": {
      "text/plain": "(240, 2)"
     },
     "execution_count": 40,
     "metadata": {},
     "output_type": "execute_result"
    }
   ],
   "source": [
    "#taking back X to its normal form for easier plotting\n",
    "#shape of X is in (n, m) form; before transpose, n shows number of features and m shows number of records or datapoints.\n",
    "X = X.T\n",
    "X.shape"
   ],
   "metadata": {
    "collapsed": false
   }
  },
  {
   "cell_type": "markdown",
   "source": [
    "<div dir=\"rtl\">\n",
    "<font size=\"3\"><font/>\n",
    "در این بخش نیز تنها معادله خط، ابرصفحه حاصل شده، به فرم y = ax+ b نوشته میشود و در اخر در کنار دیگر نقاط آن را پلات میکنیم.\n",
    "<br>\n",
    "دقت کنید که چون مقیاس های رسم ابرصفحه با نقاط هماهنگی ندارد و همچنین از تقسیم های پی در پی برای رسم خط در نظر گرفتیم ممکن است کمی خطا در رسم رخ داده و یکی از نقاط در مرز قرار بگیرد، درحالی که لیبل ها همگی درست پیش بینی شده اند.\n",
    "<br>\n",
    "ملاک درستی کد را مقدار متغیر miss در نظر بگیرید.\n",
    "</div>"
   ],
   "metadata": {
    "collapsed": false
   }
  },
  {
   "cell_type": "code",
   "execution_count": 41,
   "outputs": [
    {
     "data": {
      "text/plain": "<Figure size 640x480 with 1 Axes>",
      "image/png": "[encoded data removed]"
     },
     "metadata": {},
     "output_type": "display_data"
    }
   ],
   "source": [
    "def line_calculation(x):\n",
    "    return -1 * (p.W[0] / p.W[1]) * x - (p.b / p.W[1])\n",
    "\n",
    "x1_domain = np.linspace(X.min(), X.max(), 100)\n",
    "x2_domain = line_calculation(x1_domain)\n",
    "plt.plot(X[:, 0][y == -1], X[:, 1][y == -1], 'g^')\n",
    "plt.plot(X[:, 0][y == 1], X[:, 1][y == 1], 'bs')\n",
    "plt.plot(x1_domain, x2_domain, color='red', label='Hyperplane')\n",
    "\n",
    "plt.xlabel('X-axis')\n",
    "plt.ylabel('Y-axis')\n",
    "\n",
    "plt.legend()\n",
    "\n",
    "plt.show()\n"
   ],
   "metadata": {
    "collapsed": false
   }
  }
 ],
 "metadata": {
  "kernelspec": {
   "display_name": "Python 3",
   "language": "python",
   "name": "python3"
  },
  "language_info": {
   "codemirror_mode": {
    "name": "ipython",
    "version": 2
   },
   "file_extension": ".py",
   "mimetype": "text/x-python",
   "name": "python",
   "nbconvert_exporter": "python",
   "pygments_lexer": "ipython2",
   "version": "2.7.6"
  }
 },
 "nbformat": 4,
 "nbformat_minor": 0
}

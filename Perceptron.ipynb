{
 "cells": [
  {
   "cell_type": "code",
   "execution_count": 1,
   "metadata": {
    "collapsed": true
   },
   "outputs": [],
   "source": [
    "import numpy as np\n",
    "import matplotlib.pyplot as plt\n",
    "from sklearn.datasets import make_blobs"
   ]
  },
  {
   "cell_type": "code",
   "execution_count": 98,
   "outputs": [],
   "source": [
    "X, y = make_blobs(n_samples=240, centers=2, n_features=24, random_state=42)\n",
    "#plt.plot(X[:, 0][y == 0], X[:, 1][y == 0], 'g^')\n",
    "#plt.plot(X[:, 0][y == 1], X[:, 1][y == 1], 'bs')\n",
    "#plt.show()\n",
    "# taking transpose X for easier calculation\n",
    "X = X.T\n",
    "y[y == 0] = -1"
   ],
   "metadata": {
    "collapsed": false
   }
  },
  {
   "cell_type": "code",
   "execution_count": 99,
   "outputs": [],
   "source": [
    "class F:\n",
    "    @staticmethod\n",
    "    def sign(x):\n",
    "        if x >= 0:\n",
    "            return 1\n",
    "        else:\n",
    "            return -1"
   ],
   "metadata": {
    "collapsed": false
   }
  },
  {
   "cell_type": "code",
   "execution_count": 100,
   "outputs": [],
   "source": [
    "class Perceptron:\n",
    "    def __init__(self, input_size = 1):\n",
    "        self.W = np.random.rand(1, input_size)[0]\n",
    "        self.b = np.random.uniform(0, 3)\n",
    "    def forward(self, input):\n",
    "        bias = np.full((1 ,input.shape[1]), self.b)\n",
    "        return np.matmul(self.W, input) + bias\n"
   ],
   "metadata": {
    "collapsed": false
   }
  },
  {
   "cell_type": "code",
   "execution_count": 101,
   "outputs": [],
   "source": [
    "class Optimizer:\n",
    "    def __init__(self, model):\n",
    "        self.model = model\n",
    "    def update(self, x, y, y_hat):\n",
    "        if y_hat != y:\n",
    "            self.model.b += y - y_hat\n",
    "            self.model.W += (y - y_hat) * x\n",
    "            return"
   ],
   "metadata": {
    "collapsed": false
   }
  },
  {
   "cell_type": "code",
   "execution_count": 102,
   "outputs": [],
   "source": [
    "p = Perceptron(X.shape[0])\n",
    "optimizer = Optimizer(p)"
   ],
   "metadata": {
    "collapsed": false
   }
  },
  {
   "cell_type": "code",
   "execution_count": 109,
   "outputs": [
    {
     "name": "stdout",
     "output_type": "stream",
     "text": [
      "[   24839.56792063   440640.5113482  -1871824.00448329  -206829.68592902\n",
      "  1065384.65160228 -1493669.20188348  1417573.16268536 -2274263.88460637\n",
      " -2284069.06192288  1774679.77045562  3144550.10500644   522897.08568896\n",
      " -1606889.24265779 -1346837.26279964  1490969.79201712   302127.18019774\n",
      " -1451491.66244044   -52355.72483162 -2070467.93887269  2289706.61807988\n",
      " -1388626.25819259  1439628.79679611  -457146.646098     360263.50855644]\n",
      "142000.69968193927\n",
      "[   24839.56792063   440640.5113482  -1871824.00448329  -206829.68592902\n",
      "  1065384.65160228 -1493669.20188348  1417573.16268536 -2274263.88460637\n",
      " -2284069.06192288  1774679.77045562  3144550.10500644   522897.08568896\n",
      " -1606889.24265779 -1346837.26279964  1490969.79201712   302127.18019774\n",
      " -1451491.66244044   -52355.72483162 -2070467.93887269  2289706.61807988\n",
      " -1388626.25819259  1439628.79679611  -457146.646098     360263.50855644]\n",
      "142000.69968193927\n"
     ]
    }
   ],
   "source": [
    "n_iter = 1000\n",
    "res = optimizer.model.forward(X)\n",
    "res = res[0]\n",
    "print(optimizer.model.W)\n",
    "print(optimizer.model.b)\n",
    "for _ in range(n_iter):\n",
    "    for i in range(X.shape[1]):\n",
    "        y_hat = F.sign(res[i])\n",
    "        optimizer.update(X[:, i], y[i], y_hat)\n",
    "print(optimizer.model.W)\n",
    "print(optimizer.model.b)"
   ],
   "metadata": {
    "collapsed": false
   }
  },
  {
   "cell_type": "code",
   "execution_count": 110,
   "outputs": [
    {
     "name": "stdout",
     "output_type": "stream",
     "text": [
      "0\n"
     ]
    }
   ],
   "source": [
    "miss = 0\n",
    "for i in range(X.shape[1]):\n",
    "    y_hat = F.sign(res[i])\n",
    "    if y_hat != y[i]:\n",
    "        miss += 1\n",
    "print(miss)"
   ],
   "metadata": {
    "collapsed": false
   }
  },
  {
   "cell_type": "code",
   "execution_count": 111,
   "outputs": [
    {
     "data": {
      "text/plain": "(240, 24)"
     },
     "execution_count": 111,
     "metadata": {},
     "output_type": "execute_result"
    }
   ],
   "source": [
    "#taking back X to its normal form for easier plotting\n",
    "#shape of X is in (n, m) form; before transpose, n shows number of features and m shows number of records or datapoints.\n",
    "X = X.T\n",
    "X.shape"
   ],
   "metadata": {
    "collapsed": false
   }
  },
  {
   "cell_type": "code",
   "execution_count": 97,
   "outputs": [
    {
     "ename": "IndexError",
     "evalue": "boolean index did not match indexed array along dimension 0; dimension is 24 but corresponding boolean dimension is 240",
     "output_type": "error",
     "traceback": [
      "\u001B[1;31m---------------------------------------------------------------------------\u001B[0m",
      "\u001B[1;31mIndexError\u001B[0m                                Traceback (most recent call last)",
      "Cell \u001B[1;32mIn[97], line 6\u001B[0m\n\u001B[0;32m      4\u001B[0m x1_domain \u001B[38;5;241m=\u001B[39m np\u001B[38;5;241m.\u001B[39mlinspace(X\u001B[38;5;241m.\u001B[39mmin(), X\u001B[38;5;241m.\u001B[39mmax(), \u001B[38;5;241m100\u001B[39m)\n\u001B[0;32m      5\u001B[0m x2_domain \u001B[38;5;241m=\u001B[39m line_calculation(x1_domain)\n\u001B[1;32m----> 6\u001B[0m plt\u001B[38;5;241m.\u001B[39mplot(\u001B[43mX\u001B[49m\u001B[43m[\u001B[49m\u001B[43m:\u001B[49m\u001B[43m,\u001B[49m\u001B[43m \u001B[49m\u001B[38;5;241;43m0\u001B[39;49m\u001B[43m]\u001B[49m\u001B[43m[\u001B[49m\u001B[43my\u001B[49m\u001B[43m \u001B[49m\u001B[38;5;241;43m==\u001B[39;49m\u001B[43m \u001B[49m\u001B[38;5;241;43m-\u001B[39;49m\u001B[38;5;241;43m1\u001B[39;49m\u001B[43m]\u001B[49m, X[:, \u001B[38;5;241m1\u001B[39m][y \u001B[38;5;241m==\u001B[39m \u001B[38;5;241m-\u001B[39m\u001B[38;5;241m1\u001B[39m], \u001B[38;5;124m'\u001B[39m\u001B[38;5;124mg^\u001B[39m\u001B[38;5;124m'\u001B[39m)\n\u001B[0;32m      7\u001B[0m plt\u001B[38;5;241m.\u001B[39mplot(X[:, \u001B[38;5;241m0\u001B[39m][y \u001B[38;5;241m==\u001B[39m \u001B[38;5;241m1\u001B[39m], X[:, \u001B[38;5;241m1\u001B[39m][y \u001B[38;5;241m==\u001B[39m \u001B[38;5;241m1\u001B[39m], \u001B[38;5;124m'\u001B[39m\u001B[38;5;124mbs\u001B[39m\u001B[38;5;124m'\u001B[39m)\n\u001B[0;32m      8\u001B[0m plt\u001B[38;5;241m.\u001B[39mplot(x1_domain, x2_domain, color\u001B[38;5;241m=\u001B[39m\u001B[38;5;124m'\u001B[39m\u001B[38;5;124mred\u001B[39m\u001B[38;5;124m'\u001B[39m, label\u001B[38;5;241m=\u001B[39m\u001B[38;5;124m'\u001B[39m\u001B[38;5;124mHyperplane\u001B[39m\u001B[38;5;124m'\u001B[39m)\n",
      "\u001B[1;31mIndexError\u001B[0m: boolean index did not match indexed array along dimension 0; dimension is 24 but corresponding boolean dimension is 240"
     ]
    }
   ],
   "source": [
    "def line_calculation(x):\n",
    "    return -1 * (p.W[0] / p.W[1]) * x - (p.b / p.W[1])\n",
    "\n",
    "x1_domain = np.linspace(X.min(), X.max(), 100)\n",
    "x2_domain = line_calculation(x1_domain)\n",
    "plt.plot(X[:, 0][y == -1], X[:, 1][y == -1], 'g^')\n",
    "plt.plot(X[:, 0][y == 1], X[:, 1][y == 1], 'bs')\n",
    "plt.plot(x1_domain, x2_domain, color='red', label='Hyperplane')\n",
    "\n",
    "plt.xlabel('X-axis')\n",
    "plt.ylabel('Y-axis')\n",
    "\n",
    "plt.legend()\n",
    "\n",
    "plt.show()\n"
   ],
   "metadata": {
    "collapsed": false
   }
  },
  {
   "cell_type": "code",
   "execution_count": null,
   "outputs": [],
   "source": [],
   "metadata": {
    "collapsed": false
   }
  }
 ],
 "metadata": {
  "kernelspec": {
   "display_name": "Python 3",
   "language": "python",
   "name": "python3"
  },
  "language_info": {
   "codemirror_mode": {
    "name": "ipython",
    "version": 2
   },
   "file_extension": ".py",
   "mimetype": "text/x-python",
   "name": "python",
   "nbconvert_exporter": "python",
   "pygments_lexer": "ipython2",
   "version": "2.7.6"
  }
 },
 "nbformat": 4,
 "nbformat_minor": 0
}

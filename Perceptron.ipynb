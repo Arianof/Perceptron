{
 "cells": [
  {
   "cell_type": "code",
   "execution_count": 0,
   "metadata": {
    "collapsed": true
   },
   "outputs": [],
   "source": [
    "import numpy as np\n",
    "import matplotlib.pyplot as plt\n",
    "from sklearn.datasets import make_blobs"
   ]
  },
  {
   "cell_type": "code",
   "execution_count": 389,
   "outputs": [
    {
     "data": {
      "text/plain": "<Figure size 640x480 with 1 Axes>",
      "image/png": "[encoded data removed]"
     },
     "metadata": {},
     "output_type": "display_data"
    }
   ],
   "source": [
    "X, y = make_blobs(n_samples=120, centers=2, n_features=2, random_state=42)\n",
    "plt.plot(X[:, 0][y == 0], X[:, 1][y == 0], 'g^')\n",
    "plt.plot(X[:, 0][y == 1], X[:, 1][y == 1], 'bs')\n",
    "plt.show()\n",
    "# taking transpose X for easier calculation\n",
    "X = X.T\n",
    "y[y == 0] = -1"
   ],
   "metadata": {
    "collapsed": false
   }
  },
  {
   "cell_type": "code",
   "execution_count": 390,
   "outputs": [],
   "source": [
    "class F:\n",
    "    @staticmethod\n",
    "    def sign(x):\n",
    "        if x >= 0:\n",
    "            return 1\n",
    "        else:\n",
    "            return -1"
   ],
   "metadata": {
    "collapsed": false
   }
  },
  {
   "cell_type": "code",
   "execution_count": 391,
   "outputs": [],
   "source": [
    "class Perceptron:\n",
    "    def __init__(self, input_size = 1):\n",
    "        self.W = np.random.rand(1, input_size)[0]\n",
    "        self.b = np.random.uniform(0, 3)\n",
    "    def forward(self, input):\n",
    "        bias = np.full((1 ,input.shape[1]), self.b)\n",
    "        return np.matmul(self.W, input) + bias\n"
   ],
   "metadata": {
    "collapsed": false
   }
  },
  {
   "cell_type": "code",
   "execution_count": 392,
   "outputs": [],
   "source": [
    "class Optimizer:\n",
    "    def __init__(self, model):\n",
    "        self.model = model\n",
    "    def update(self, x, y, y_hat):\n",
    "        if y_hat != y:\n",
    "            self.model.b += y - y_hat\n",
    "            self.model.W += (y - y_hat) * x\n",
    "            return"
   ],
   "metadata": {
    "collapsed": false
   }
  },
  {
   "cell_type": "code",
   "execution_count": 393,
   "outputs": [],
   "source": [
    "p = Perceptron(X.shape[0])\n",
    "optimizer = Optimizer(p)"
   ],
   "metadata": {
    "collapsed": false
   }
  },
  {
   "cell_type": "code",
   "execution_count": 410,
   "outputs": [
    {
     "name": "stdout",
     "output_type": "stream",
     "text": [
      "[ 835988.78159743 -727989.52307961]\n",
      "-3998.063367116265\n",
      "[ 835988.78159743 -727989.52307961]\n",
      "-3998.063367116265\n"
     ]
    }
   ],
   "source": [
    "n_iter = 1000\n",
    "res = optimizer.model.forward(X)\n",
    "res = res[0]\n",
    "print(optimizer.model.W)\n",
    "print(optimizer.model.b)\n",
    "for _ in range(n_iter):\n",
    "    for i in range(X.shape[1]):\n",
    "        y_hat = F.sign(res[i])\n",
    "        optimizer.update(X[:, i], y[i], y_hat)\n",
    "print(optimizer.model.W)\n",
    "print(optimizer.model.b)"
   ],
   "metadata": {
    "collapsed": false
   }
  },
  {
   "cell_type": "code",
   "execution_count": 411,
   "outputs": [
    {
     "name": "stdout",
     "output_type": "stream",
     "text": [
      "0\n"
     ]
    }
   ],
   "source": [
    "miss = 0\n",
    "for i in range(X.shape[1]):\n",
    "    y_hat = F.sign(res[i])\n",
    "    if y_hat != y[i]:\n",
    "        miss += 1\n",
    "print(miss)"
   ],
   "metadata": {
    "collapsed": false
   }
  }
 ],
 "metadata": {
  "kernelspec": {
   "display_name": "Python 3",
   "language": "python",
   "name": "python3"
  },
  "language_info": {
   "codemirror_mode": {
    "name": "ipython",
    "version": 2
   },
   "file_extension": ".py",
   "mimetype": "text/x-python",
   "name": "python",
   "nbconvert_exporter": "python",
   "pygments_lexer": "ipython2",
   "version": "2.7.6"
  }
 },
 "nbformat": 4,
 "nbformat_minor": 0
}
